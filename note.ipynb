{
 "cells": [
  {
   "cell_type": "code",
   "execution_count": 1,
   "id": "initial_id",
   "metadata": {
    "collapsed": true,
    "ExecuteTime": {
     "end_time": "2023-10-24T12:43:51.121952300Z",
     "start_time": "2023-10-24T12:43:51.102846300Z"
    }
   },
   "outputs": [],
   "source": [
    "str1 = \"10\""
   ]
  },
  {
   "cell_type": "code",
   "execution_count": 2,
   "outputs": [
    {
     "data": {
      "text/plain": "str"
     },
     "execution_count": 2,
     "metadata": {},
     "output_type": "execute_result"
    }
   ],
   "source": [
    "type(str1)"
   ],
   "metadata": {
    "collapsed": false,
    "ExecuteTime": {
     "end_time": "2023-10-24T12:44:21.614191800Z",
     "start_time": "2023-10-24T12:44:21.499545100Z"
    }
   },
   "id": "aa9df19e09f77f1f"
  },
  {
   "cell_type": "code",
   "execution_count": 3,
   "outputs": [
    {
     "data": {
      "text/plain": "True"
     },
     "execution_count": 3,
     "metadata": {},
     "output_type": "execute_result"
    }
   ],
   "source": [
    "str1.isdecimal()"
   ],
   "metadata": {
    "collapsed": false,
    "ExecuteTime": {
     "end_time": "2023-10-24T12:45:10.795861700Z",
     "start_time": "2023-10-24T12:45:10.612974300Z"
    }
   },
   "id": "fb2e43ed91669d2e"
  },
  {
   "cell_type": "code",
   "execution_count": 7,
   "outputs": [
    {
     "name": "stdout",
     "output_type": "stream",
     "text": [
      ">> Enter: \n",
      "\r\n"
     ]
    },
    {
     "ename": "TimeoutOccurred",
     "evalue": "",
     "output_type": "error",
     "traceback": [
      "\u001B[1;31m---------------------------------------------------------------------------\u001B[0m",
      "\u001B[1;31mTimeoutOccurred\u001B[0m                           Traceback (most recent call last)",
      "Cell \u001B[1;32mIn[7], line 2\u001B[0m\n\u001B[0;32m      1\u001B[0m \u001B[38;5;28;01mfrom\u001B[39;00m \u001B[38;5;21;01minputimeout\u001B[39;00m \u001B[38;5;28;01mimport\u001B[39;00m inputimeout, TimeoutOccurred\n\u001B[1;32m----> 2\u001B[0m player_response \u001B[38;5;241m=\u001B[39m \u001B[43minputimeout\u001B[49m\u001B[43m(\u001B[49m\u001B[43mprompt\u001B[49m\u001B[38;5;241;43m=\u001B[39;49m\u001B[38;5;124;43m'\u001B[39;49m\u001B[38;5;124;43m>> Enter: \u001B[39;49m\u001B[38;5;130;43;01m\\n\u001B[39;49;00m\u001B[38;5;124;43m'\u001B[39;49m\u001B[43m,\u001B[49m\u001B[43m \u001B[49m\u001B[43mtimeout\u001B[49m\u001B[38;5;241;43m=\u001B[39;49m\u001B[38;5;241;43m10\u001B[39;49m\u001B[43m)\u001B[49m\n",
      "File \u001B[1;32m~\\PycharmProjects\\pythonProject\\venv\\Lib\\site-packages\\inputimeout\\inputimeout.py:59\u001B[0m, in \u001B[0;36mwin_inputimeout\u001B[1;34m(prompt, timeout)\u001B[0m\n\u001B[0;32m     56\u001B[0m     time\u001B[38;5;241m.\u001B[39msleep(INTERVAL)\n\u001B[0;32m     58\u001B[0m echo(CRLF)\n\u001B[1;32m---> 59\u001B[0m \u001B[38;5;28;01mraise\u001B[39;00m TimeoutOccurred\n",
      "\u001B[1;31mTimeoutOccurred\u001B[0m: "
     ]
    }
   ],
   "source": [
    "from inputimeout import inputimeout, TimeoutOccurred\n",
    "player_response = inputimeout(prompt='>> Enter: \\n', timeout=10)\n",
    "print(player_response)"
   ],
   "metadata": {
    "collapsed": false,
    "ExecuteTime": {
     "end_time": "2023-10-24T13:11:52.431108200Z",
     "start_time": "2023-10-24T13:11:42.374018600Z"
    }
   },
   "id": "19fb3d4d264a1bc0"
  },
  {
   "cell_type": "code",
   "execution_count": null,
   "outputs": [],
   "source": [
    "print(player_response)"
   ],
   "metadata": {
    "collapsed": false
   },
   "id": "6befa6e8f1edb6b0"
  }
 ],
 "metadata": {
  "kernelspec": {
   "display_name": "Python 3",
   "language": "python",
   "name": "python3"
  },
  "language_info": {
   "codemirror_mode": {
    "name": "ipython",
    "version": 2
   },
   "file_extension": ".py",
   "mimetype": "text/x-python",
   "name": "python",
   "nbconvert_exporter": "python",
   "pygments_lexer": "ipython2",
   "version": "2.7.6"
  }
 },
 "nbformat": 4,
 "nbformat_minor": 5
}
